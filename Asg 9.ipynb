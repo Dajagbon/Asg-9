{
 "cells": [
  {
   "cell_type": "code",
   "execution_count": 47,
   "id": "fa27b4e3-524c-4f13-a296-973e27083243",
   "metadata": {},
   "outputs": [
    {
     "name": "stdin",
     "output_type": "stream",
     "text": [
      "Enter your subgrid:  [1,2,3,4,5,6,7,8,9]\n"
     ]
    },
    {
     "name": "stdout",
     "output_type": "stream",
     "text": [
      "This Sudoku subgrid is: True\n"
     ]
    },
    {
     "name": "stdin",
     "output_type": "stream",
     "text": [
      "Enter your subgrid:  [[5, 3, 4], [6, 7, 2], [1, 9, 8]]\n"
     ]
    },
    {
     "name": "stdout",
     "output_type": "stream",
     "text": [
      "This Sudoku subgrid is: True\n"
     ]
    },
    {
     "name": "stdin",
     "output_type": "stream",
     "text": [
      "Enter your subgrid:  [[9, 9, 2], [3, 4, 8], [5, 6, 7]]\n"
     ]
    },
    {
     "name": "stdout",
     "output_type": "stream",
     "text": [
      "This Sudoku subgrid is: Invalid input length\n"
     ]
    },
    {
     "name": "stdin",
     "output_type": "stream",
     "text": [
      "Enter your subgrid:  [[8, 5, 9], [4, 2, 6], [8, 1, 3]]\n"
     ]
    },
    {
     "name": "stdout",
     "output_type": "stream",
     "text": [
      "This Sudoku subgrid is: Illegal values\n"
     ]
    },
    {
     "name": "stdin",
     "output_type": "stream",
     "text": [
      "Enter your subgrid:  [[7, 6, 1], [6, 8, 5], [3, 9, 6]]\n"
     ]
    },
    {
     "name": "stdout",
     "output_type": "stream",
     "text": [
      "This Sudoku subgrid is: Invalid input length\n"
     ]
    },
    {
     "name": "stdin",
     "output_type": "stream",
     "text": [
      "Enter your subgrid:  [[4, 2, E], [7, 9 , I], [8, S, 6]]\n"
     ]
    },
    {
     "name": "stdout",
     "output_type": "stream",
     "text": [
      "This Sudoku subgrid is: True\n"
     ]
    },
    {
     "name": "stdin",
     "output_type": "stream",
     "text": [
      "Enter your subgrid:  [[6, 7, 8], [1, 9, 5, 3], [3, 4, 2]]\n"
     ]
    },
    {
     "name": "stdout",
     "output_type": "stream",
     "text": [
      "This Sudoku subgrid is: True\n"
     ]
    }
   ],
   "source": [
    "def legal_conformation(grid):\n",
    "    results = input(\"Enter your subgrid: \")\n",
    "\n",
    "    if isinstance(grid, list) and len(grid) == 9:\n",
    "        for cell in grid:\n",
    "            if not isinstance(cell, int):\n",
    "                return \"Illegal values\"\n",
    "\n",
    "        grid = [grid[0:3], grid[3:6], grid[6:9]]\n",
    "\n",
    "    elif isinstance(grid, list) and len(grid) == 3 and all(len(row) == 3 for row in grid):\n",
    "        for row in grid:\n",
    "            for cell in row:\n",
    "                if not isinstance(cell, int):\n",
    "                    return \"Illegal values\"\n",
    "    else:\n",
    "        return \"Invalid input length\"\n",
    "\n",
    "    return True\n",
    "\n",
    "# Test the function\n",
    "print(\"This Sudoku subgrid is:\", legal_conformation(grid1))\n",
    "print(\"This Sudoku subgrid is:\", legal_conformation(grid2))\n",
    "print(\"This Sudoku subgrid is:\", legal_conformation(grid3))\n",
    "print(\"This Sudoku subgrid is:\", legal_conformation(grid4))\n",
    "print(\"This Sudoku subgrid is:\", legal_conformation(grid5))\n",
    "print(\"This Sudoku subgrid is:\", legal_conformation(grid6))\n",
    "print(\"This Sudoku subgrid is:\", legal_conformation(grid7))"
   ]
  },
  {
   "cell_type": "code",
   "execution_count": 60,
   "id": "f77835da-af41-4f9b-b663-c4086ae115ba",
   "metadata": {},
   "outputs": [
    {
     "name": "stdout",
     "output_type": "stream",
     "text": [
      "Each stanza of the poem:\n"
     ]
    },
    {
     "name": "stdin",
     "output_type": "stream",
     "text": [
      "Enter your poem:  It was many and many a year ago In a kingdom by the sea That a maiden there lived whom you may know By the name of Annabel Lee And this maiden she lived with no other thought Than to love and be loved by me\n"
     ]
    },
    {
     "name": "stdout",
     "output_type": "stream",
     "text": [
      "Number of unique words: 7\n"
     ]
    },
    {
     "name": "stdin",
     "output_type": "stream",
     "text": [
      "Enter your poem:  I was a child and she was a child In this kingdom by the sea But we loved with a love that was more than love I and my Annabel Lee With a love that the winged seraphs of Heaven Coveted her and me\n"
     ]
    },
    {
     "name": "stdout",
     "output_type": "stream",
     "text": [
      "Number of unique words: 7\n"
     ]
    },
    {
     "name": "stdin",
     "output_type": "stream",
     "text": [
      "Enter your poem:  And this was the reason that long ago In this kingdom by the sea A wind blew out of a cloud chilling My beautiful Annabel Lee So that her highborn kinsmen came And bore her away from me To shut her up in a sepulchre In this kingdom by the sea\n"
     ]
    },
    {
     "name": "stdout",
     "output_type": "stream",
     "text": [
      "Number of unique words: 7\n"
     ]
    },
    {
     "name": "stdin",
     "output_type": "stream",
     "text": [
      "Enter your poem:  The angels not half so happy in Heaven Went envying her and me Yes that was the reason as all men know In this kingdom by the sea That the wind came out of the cloud by night Chilling and killing my Annabel Lee\n"
     ]
    },
    {
     "name": "stdout",
     "output_type": "stream",
     "text": [
      "Number of unique words: 8\n"
     ]
    },
    {
     "ename": "NameError",
     "evalue": "name 'poem_stanza5' is not defined",
     "output_type": "error",
     "traceback": [
      "\u001b[1;31m---------------------------------------------------------------------------\u001b[0m",
      "\u001b[1;31mNameError\u001b[0m                                 Traceback (most recent call last)",
      "Cell \u001b[1;32mIn[60], line 29\u001b[0m\n\u001b[0;32m     27\u001b[0m unique_words(poem_stanza3)\n\u001b[0;32m     28\u001b[0m unique_words(poem_stanza4)\n\u001b[1;32m---> 29\u001b[0m unique_words(poem_stanza5)\n\u001b[0;32m     30\u001b[0m unique_words(poem_stanza6)\n\u001b[0;32m     32\u001b[0m \u001b[38;5;28mprint\u001b[39m(\u001b[38;5;124m\"\u001b[39m\u001b[38;5;124mWhole poem:\u001b[39m\u001b[38;5;124m\"\u001b[39m)\n",
      "\u001b[1;31mNameError\u001b[0m: name 'poem_stanza5' is not defined"
     ]
    }
   ],
   "source": [
    "def unique_words(text):\n",
    "    Poems = input(\"Enter your poem: \")\n",
    "    cleaned_text = ''\n",
    "    for char in text:\n",
    "        if char.isalpha() or char.isspace():\n",
    "            cleaned_text += char.lower()\n",
    "        else:\n",
    "            cleaned_text += ' '\n",
    "\n",
    "    words = cleaned_text.split()\n",
    "\n",
    "    word_count = {}\n",
    "    for word in words:\n",
    "        if word in word_count:\n",
    "            word_count[word] += 1\n",
    "        else:\n",
    "            word_count[word] = 1\n",
    "\n",
    "    unique_words = len(word_count)\n",
    "\n",
    "    print(\"Number of unique words:\", unique_words)\n",
    "\n",
    "print(\"Each stanza of the poem:\")\n",
    "unique_words(poem_stanza1)\n",
    "unique_words(poem_stanza2)\n",
    "unique_words(poem_stanza3)\n",
    "unique_words(poem_stanza4)\n",
    "unique_words(poem_stanza5)\n",
    "unique_words(poem_stanza6)\n",
    "\n",
    "print(\"Whole poem:\")\n",
    "count_unique_words(poem)"
   ]
  },
  {
   "cell_type": "code",
   "execution_count": null,
   "id": "d2da7aa9-0cb2-4a86-b332-ad71ac658335",
   "metadata": {},
   "outputs": [],
   "source": []
  }
 ],
 "metadata": {
  "kernelspec": {
   "display_name": "Python 3 (ipykernel)",
   "language": "python",
   "name": "python3"
  },
  "language_info": {
   "codemirror_mode": {
    "name": "ipython",
    "version": 3
   },
   "file_extension": ".py",
   "mimetype": "text/x-python",
   "name": "python",
   "nbconvert_exporter": "python",
   "pygments_lexer": "ipython3",
   "version": "3.11.5"
  }
 },
 "nbformat": 4,
 "nbformat_minor": 5
}
